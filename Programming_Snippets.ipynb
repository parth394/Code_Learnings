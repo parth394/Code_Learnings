{
 "cells": [
  {
   "cell_type": "markdown",
   "metadata": {},
   "source": [
    "# Tips And Tricks to become a better programmer"
   ]
  },
  {
   "cell_type": "markdown",
   "metadata": {},
   "source": [
    "__Note__: We will do this without any libaries until it is absolutely neccessary"
   ]
  },
  {
   "cell_type": "markdown",
   "metadata": {},
   "source": [
    "## Matrix"
   ]
  },
  {
   "cell_type": "markdown",
   "metadata": {},
   "source": [
    "### How to identify primary and a secondary matrix"
   ]
  },
  {
   "cell_type": "code",
   "execution_count": 22,
   "metadata": {
    "ExecuteTime": {
     "end_time": "2020-04-01T11:14:40.680023Z",
     "start_time": "2020-04-01T11:14:40.672299Z"
    }
   },
   "outputs": [
    {
     "name": "stdout",
     "output_type": "stream",
     "text": [
      "1   2   3   4\n",
      "5   6   7   8\n",
      "9   10   11   12\n",
      "13   14   15   16\n"
     ]
    }
   ],
   "source": [
    "# Create a matrix\n",
    "# This logic is only applicable to SQUARE Matricies\n",
    "M = [['1','2','3','4'],\n",
    "     ['5','6','7','8'],\n",
    "     ['9','10','11','12'],\n",
    "     ['13','14','15','16']]\n",
    "for ele in M:\n",
    "    print('   '.join(ele))"
   ]
  },
  {
   "cell_type": "code",
   "execution_count": 23,
   "metadata": {
    "ExecuteTime": {
     "end_time": "2020-04-01T11:14:42.245543Z",
     "start_time": "2020-04-01T11:14:42.239769Z"
    }
   },
   "outputs": [
    {
     "name": "stdout",
     "output_type": "stream",
     "text": [
      "0 0 ==> 1\n",
      "1 1 ==> 6\n",
      "2 2 ==> 11\n",
      "3 3 ==> 16\n"
     ]
    }
   ],
   "source": [
    "# Primary Diagonal\n",
    "for i in range(len(M)):\n",
    "    for j in range(len(M[0])):\n",
    "        if i == j:\n",
    "            print(i,j,'==>',M[i][j])"
   ]
  },
  {
   "cell_type": "code",
   "execution_count": 24,
   "metadata": {
    "ExecuteTime": {
     "end_time": "2020-04-01T11:14:44.002493Z",
     "start_time": "2020-04-01T11:14:43.996301Z"
    }
   },
   "outputs": [
    {
     "name": "stdout",
     "output_type": "stream",
     "text": [
      "0 3 ==> 4\n",
      "1 2 ==> 7\n",
      "2 1 ==> 10\n",
      "3 0 ==> 13\n"
     ]
    }
   ],
   "source": [
    "# Secondary Diagonal\n",
    "# we know by maths that secondary diagonals are \n",
    "for i in range(len(M)):\n",
    "    for j in range(len(M[0])-1,-1,-1):\n",
    "        if i + j == len(M)-1:\n",
    "            print(i,j,'==>',M[i][j])"
   ]
  }
 ],
 "metadata": {
  "kernelspec": {
   "display_name": "Python 3",
   "language": "python",
   "name": "python3"
  },
  "language_info": {
   "codemirror_mode": {
    "name": "ipython",
    "version": 3
   },
   "file_extension": ".py",
   "mimetype": "text/x-python",
   "name": "python",
   "nbconvert_exporter": "python",
   "pygments_lexer": "ipython3",
   "version": "3.6.8"
  },
  "latex_envs": {
   "LaTeX_envs_menu_present": true,
   "autoclose": false,
   "autocomplete": true,
   "bibliofile": "biblio.bib",
   "cite_by": "apalike",
   "current_citInitial": 1,
   "eqLabelWithNumbers": true,
   "eqNumInitial": 1,
   "hotkeys": {
    "equation": "Ctrl-E",
    "itemize": "Ctrl-I"
   },
   "labels_anchors": false,
   "latex_user_defs": false,
   "report_style_numbering": false,
   "user_envs_cfg": false
  },
  "toc": {
   "base_numbering": 1,
   "nav_menu": {},
   "number_sections": true,
   "sideBar": true,
   "skip_h1_title": false,
   "title_cell": "Table of Contents",
   "title_sidebar": "Contents",
   "toc_cell": false,
   "toc_position": {},
   "toc_section_display": true,
   "toc_window_display": true
  },
  "varInspector": {
   "cols": {
    "lenName": 16,
    "lenType": 16,
    "lenVar": 40
   },
   "kernels_config": {
    "python": {
     "delete_cmd_postfix": "",
     "delete_cmd_prefix": "del ",
     "library": "var_list.py",
     "varRefreshCmd": "print(var_dic_list())"
    },
    "r": {
     "delete_cmd_postfix": ") ",
     "delete_cmd_prefix": "rm(",
     "library": "var_list.r",
     "varRefreshCmd": "cat(var_dic_list()) "
    }
   },
   "types_to_exclude": [
    "module",
    "function",
    "builtin_function_or_method",
    "instance",
    "_Feature"
   ],
   "window_display": false
  }
 },
 "nbformat": 4,
 "nbformat_minor": 2
}
